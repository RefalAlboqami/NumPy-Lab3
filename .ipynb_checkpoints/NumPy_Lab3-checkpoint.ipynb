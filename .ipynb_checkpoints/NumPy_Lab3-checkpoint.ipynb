{
 "cells": [
  {
   "cell_type": "markdown",
   "id": "afb4e7a0-e453-4a86-9163-2b5242f7cea0",
   "metadata": {},
   "source": [
    "# Real world Scenario with Numpy"
   ]
  },
  {
   "cell_type": "markdown",
   "id": "b7fc781e-8242-4c4f-a4cf-c9646b6b98d4",
   "metadata": {},
   "source": [
    "<hr>\n",
    "\n",
    "<img src=\"https://i.imgur.com/mRN9H4v.png\"/>"
   ]
  },
  {
   "cell_type": "code",
   "execution_count": 2,
   "id": "93c0c316-d198-4cdc-b366-1cfcdc48a6b8",
   "metadata": {},
   "outputs": [],
   "source": [
    "import numpy as np"
   ]
  },
  {
   "cell_type": "code",
   "execution_count": 3,
   "id": "da6b2527-511c-4e40-82c7-c56428b67929",
   "metadata": {},
   "outputs": [],
   "source": [
    "names = np.array((\"Khaled\", \"Sarah\", \"Mohammed\", \"Reem\",\"Fahad\", \"Saleh\", \"Nora\"))\n",
    "ages = np.array((17, 60, 21, 55, 29, 24, 19))"
   ]
  },
  {
   "cell_type": "code",
   "execution_count": 4,
   "id": "bf5f8525-0a6c-4d59-88be-8e89067281f6",
   "metadata": {},
   "outputs": [
    {
     "name": "stdout",
     "output_type": "stream",
     "text": [
      "1- Sarah\n",
      "2- Reem\n",
      "3- Fahad\n",
      "4- Saleh\n",
      "5- Mohammed\n",
      "6- Nora\n",
      "7- Khaled\n"
     ]
    }
   ],
   "source": [
    "sorted_names = names[np.argsort(ages)[::-1]]\n",
    "\n",
    "for i, name in enumerate(sorted_names):\n",
    "    print(f\"{i+1}- {name}\")"
   ]
  },
  {
   "attachments": {},
   "cell_type": "markdown",
   "id": "af47d8d6-075c-43fa-b27f-e804f834d475",
   "metadata": {},
   "source": [
    "<hr>\n",
    "\n",
    "<img src=\"https://i.imgur.com/jbHKBPR.png![image.png](attachment:49d72e8d-c091-43ab-8ecd-db9a79858664.png)![image.png](attachment:ae9cf8e0-d2c1-4396-8bfc-0d7016cff2ad.png)![image.png](attachment:8f96c12e-5e2a-432b-b706-429bbafdeccc.png)![image.png](attachment:bd54d228-298e-4fdd-8464-49002837e5e5.png)\"/>"
   ]
  },
  {
   "cell_type": "code",
   "execution_count": 5,
   "id": "ab02fa69-e4ec-4025-8fcb-7a59db6c622c",
   "metadata": {},
   "outputs": [],
   "source": [
    "import calendar"
   ]
  },
  {
   "cell_type": "code",
   "execution_count": 6,
   "id": "bd565605-22a1-497f-9925-773a9b7c7140",
   "metadata": {},
   "outputs": [],
   "source": [
    "month_names = list(calendar.month_name)[1:]\n",
    "temperature_data = np.array([40, 38, 28, 20, 15, 28, 35, 40, 48, 45, 40, 43])\n",
    "threshold = 35"
   ]
  },
  {
   "cell_type": "code",
   "execution_count": 15,
   "id": "fc2062d3-4cd4-4797-a472-15422b444b47",
   "metadata": {},
   "outputs": [
    {
     "name": "stdout",
     "output_type": "stream",
     "text": [
      "The average temperature for the year is 35.0 degrees.\n",
      "\n",
      "The months with temperatures above the threshold are:\n",
      "January\n",
      "February\n",
      "August\n",
      "September\n",
      "October\n",
      "November\n",
      "December\n",
      "\n",
      "The month with the highest temperature is September.\n",
      "The month with the lowest temperature is May.\n",
      "\n",
      "The temperature range is 33 degrees.\n"
     ]
    }
   ],
   "source": [
    "### 1\n",
    "average_temperature = np.mean(temperature_data)\n",
    "print(f\"The average temperature for the year is {average_temperature} degrees.\")\n",
    "\n",
    "### 2 \n",
    "above_threshold_months = [month for month, temperature in enumerate(temperature_data) if temperature > threshold]\n",
    "print(\"\\nThe months with temperatures above the threshold are:\")\n",
    "for month in above_threshold_months:\n",
    "    print(calendar.month_name[month+1])\n",
    "\n",
    "### 3\n",
    "highest_month = np.argmax(temperature_data)\n",
    "lowest_month = np.argmin(temperature_data)\n",
    "print(f\"\\nThe month with the highest temperature is {calendar.month_name[highest_month+1]}.\")\n",
    "print(f\"The month with the lowest temperature is {calendar.month_name[lowest_month+1]}.\")\n",
    "\n",
    "### 4\n",
    "temperature_range = np.max(temperature_data) - np.min(temperature_data)\n",
    "print(f\"\\nThe temperature range is {temperature_range} degrees.\")"
   ]
  },
  {
   "cell_type": "markdown",
   "id": "33f65a00-76f4-4ffc-8e28-1f2c8c094a86",
   "metadata": {},
   "source": [
    "<hr>\n",
    "\n",
    "<img src=\"https://i.imgur.com/eiXHG9y.png\"/>"
   ]
  },
  {
   "cell_type": "code",
   "execution_count": 17,
   "id": "a642594f-b33d-4b5d-a2d4-44b13f6f45d0",
   "metadata": {},
   "outputs": [],
   "source": [
    "students = np.array(['Mohammed', 'Lama', 'Norah', 'Ahmed', 'Fahad'])\n",
    "math_scores = np.array([80, 92, 75, 68, 88])\n",
    "ML_scores = np.array([85, 78, 92, 64, 90])\n",
    "DS_scores = np.array([70, 88, 75, 82, 78])"
   ]
  },
  {
   "cell_type": "code",
   "execution_count": 25,
   "id": "5a6cb79c-3359-4505-8a26-59c4dab1977f",
   "metadata": {},
   "outputs": [
    {
     "name": "stdout",
     "output_type": "stream",
     "text": [
      "Math subject statistics:\n",
      "Average score: 80.6\n",
      "Highest score: 92\n",
      "Lowest score: 68\n",
      "Standard deviation: 8.662563131083086\n",
      "\n",
      "ML subject statistics:\n",
      "Average score: 81.8\n",
      "Highest score: 92\n",
      "Lowest score: 64\n",
      "Standard deviation: 10.127191120937729\n",
      "\n",
      "ML subject statistics:\n",
      "Average score: 78.6\n",
      "Highest score: 88\n",
      "Lowest score: 70\n",
      "Standard deviation: 6.118823416311342\n",
      "\n",
      "The student with the highest overall average score is: Lama\n",
      "The student with the lowest overall average score is: Ahmed\n"
     ]
    }
   ],
   "source": [
    "### 1\n",
    "## Math\n",
    "math_average = np.mean(math_scores)\n",
    "math_highest = np.max(math_scores)\n",
    "math_lowest = np.min(math_scores)\n",
    "math_std = np.std(math_scores)\n",
    "print(f\"Math subject statistics:\")\n",
    "print(f\"Average score: {math_average}\")\n",
    "print(f\"Highest score: {math_highest}\")\n",
    "print(f\"Lowest score: {math_lowest}\")\n",
    "print(f\"Standard deviation: {math_std}\")\n",
    "\n",
    "## ML\n",
    "ML_average = np.mean(ML_scores)\n",
    "ML_highest = np.max(ML_scores)\n",
    "ML_lowest = np.min(ML_scores)\n",
    "ML_std = np.std(ML_scores)\n",
    "\n",
    "print(f\"\\nML subject statistics:\")\n",
    "print(f\"Average score: {ML_average}\")\n",
    "print(f\"Highest score: {ML_highest}\")\n",
    "print(f\"Lowest score: {ML_lowest}\")\n",
    "print(f\"Standard deviation: {ML_std}\")\n",
    "\n",
    "##DS\n",
    "DS_average = np.mean(DS_scores)\n",
    "DS_highest = np.max(DS_scores)\n",
    "DS_lowest = np.min(DS_scores)\n",
    "DS_std = np.std(DS_scores)\n",
    "\n",
    "print(f\"\\nML subject statistics:\")\n",
    "print(f\"Average score: {DS_average}\")\n",
    "print(f\"Highest score: {DS_highest}\")\n",
    "print(f\"Lowest score: {DS_lowest}\")\n",
    "print(f\"Standard deviation: {DS_std}\")\n",
    "\n",
    "\n",
    "### 2\n",
    "overall_averages = np.mean([math_scores, ML_scores, DS_scores], axis=0)\n",
    "highest_student = students[np.argmax(overall_averages)]\n",
    "lowest_student = students[np.argmin(overall_averages)]\n",
    "print(f\"\\nThe student with the highest overall average score is: {highest_student}\")\n",
    "print(f\"The student with the lowest overall average score is: {lowest_student}\")\n"
   ]
  },
  {
   "cell_type": "markdown",
   "id": "bbaf40e9-20a6-425a-aa35-548e6e8ab55e",
   "metadata": {},
   "source": [
    "<hr>\n",
    "\n",
    "### <center> Great job! Keep exploring and learning. Your progress is remarkable. \n",
    "\n",
    "<hr>"
   ]
  },
  {
   "cell_type": "markdown",
   "id": "b1499ad9-75eb-4158-9b03-b2af8eebd772",
   "metadata": {},
   "source": [
    "<hr>"
   ]
  }
 ],
 "metadata": {
  "kernelspec": {
   "display_name": "Python 3 (ipykernel)",
   "language": "python",
   "name": "python3"
  },
  "language_info": {
   "codemirror_mode": {
    "name": "ipython",
    "version": 3
   },
   "file_extension": ".py",
   "mimetype": "text/x-python",
   "name": "python",
   "nbconvert_exporter": "python",
   "pygments_lexer": "ipython3",
   "version": "3.11.5"
  }
 },
 "nbformat": 4,
 "nbformat_minor": 5
}
